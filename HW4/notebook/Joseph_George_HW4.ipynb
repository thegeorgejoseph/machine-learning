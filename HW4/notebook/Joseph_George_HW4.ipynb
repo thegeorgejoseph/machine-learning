{
 "cells": [
  {
   "cell_type": "code",
   "execution_count": 1,
   "id": "809e6a2b",
   "metadata": {},
   "outputs": [],
   "source": [
    "import pandas as pd\n",
    "import numpy as np\n",
    "import matplotlib.pyplot as plt\n",
    "import seaborn as sns\n",
    "from pandas.plotting import scatter_matrix\n",
    "import math\n",
    "import statsmodels.api as sm\n",
    "import sklearn as sks\n",
    "from sklearn.feature_selection import RFECV\n",
    "from sklearn.linear_model import LogisticRegression, LogisticRegressionCV\n",
    "from sklearn.model_selection import StratifiedKFold, cross_val_score\n",
    "from sklearn import metrics\n",
    "import warnings\n",
    "warnings.filterwarnings(\"ignore\")\n",
    "from imblearn.over_sampling import SMOTE, BorderlineSMOTE\n",
    "from sklearn.naive_bayes import GaussianNB, MultinomialNB\n",
    "from sklearn.preprocessing import StandardScaler, MinMaxScaler"
   ]
  },
  {
   "cell_type": "markdown",
   "id": "128c413c",
   "metadata": {},
   "source": [
    "## Getting the Training and Testing Datasets"
   ]
  },
  {
   "cell_type": "code",
   "execution_count": 2,
   "id": "8518f15a",
   "metadata": {},
   "outputs": [
    {
     "name": "stdout",
     "output_type": "stream",
     "text": [
      "Number of instances 88\n",
      "Number of testing instances 19\n",
      "Number of training instances 69\n"
     ]
    }
   ],
   "source": [
    "#sitting dataset 8 row 54\n",
    "folders = {\n",
    "    'bending1': 7,\n",
    "    'bending2': 6,\n",
    "    'cycling': 15,\n",
    "    'lying' : 15,\n",
    "    'sitting': 15,\n",
    "    'standing': 15,\n",
    "    'walking': 15  \n",
    "}\n",
    "testing_paths = []\n",
    "training_paths = []\n",
    "ordered_paths = []\n",
    "for activity, _max in folders.items():\n",
    "    for i in range(1, _max + 1):\n",
    "        ordered_paths.append((f'../data/{activity}/dataset{i}.csv', activity))\n",
    "        if i <= 2:\n",
    "            testing_paths.append(f'../data/{activity}/dataset{i}.csv')    \n",
    "        elif i == 3 and activity not in ['bending1', 'bending2']:\n",
    "            testing_paths.append(f'../data/{activity}/dataset{i}.csv')\n",
    "        else:\n",
    "            training_paths.append(f'../data/{activity}/dataset{i}.csv')\n",
    "            \n",
    "columns = ['avg_rss12', 'var_rss12', 'avg_rss13', 'var_rss13', 'avg_rss23', 'var_rss23']\n",
    "testing_dfs = [pd.read_csv(path, skiprows = 4).iloc[:, 1:] for path in testing_paths]\n",
    "training_dfs = []\n",
    "for i, path in enumerate(training_paths):\n",
    "    if path == f'../data/bending2/dataset4.csv':\n",
    "        df = pd.read_csv(f'../data/bending2/dataset4.csv', skiprows = 5, delimiter = ' ', index_col = False, names = ['time','avg_rss12','var_rss12','avg_rss13','var_rss13','avg_rss23','var_rss23']).iloc[:, 1:]\n",
    "    else:\n",
    "        df = pd.read_csv(path, skiprows=4).iloc[:, 1:]\n",
    "#         if i == 37:\n",
    "#             print(df.describe())\n",
    "    training_dfs.append(df)\n",
    "\n",
    "\n",
    "print(f\"Number of instances {len(testing_dfs) + len(training_dfs)}\")\n",
    "print(f\"Number of testing instances {len(testing_dfs)}\")\n",
    "print(f\"Number of training instances {len(training_dfs)}\")\n",
    "\n",
    "# for i, df in enumerate(training_dfs):\n",
    "#     print(i, df.shape)"
   ]
  },
  {
   "cell_type": "markdown",
   "id": "06585e71",
   "metadata": {},
   "source": [
    "# 2. Time Series Classification Part 2: Binary and Multiclass Classification"
   ]
  },
  {
   "cell_type": "markdown",
   "id": "4cfee5eb",
   "metadata": {},
   "source": [
    "## (a) Binary Classification Using Logistic Regression"
   ]
  },
  {
   "cell_type": "markdown",
   "id": "ee8b58a1",
   "metadata": {},
   "source": [
    "### i. Assume that you want to use the training set to classify bending from other activities, i.e. you have a binary classification problem. Depict scatter plots of the features you specified in 1(c)iv extracted from time series 1, 2, and 6 of each instance, and use color to distinguish bending vs. other activities. (See p. 129 of the textbook).4"
   ]
  },
  {
   "cell_type": "markdown",
   "id": "878f4af3",
   "metadata": {},
   "source": [
    "cols = ['Mean_1', 'Q1_1', 'Q3_1', 'Mean_2', 'Q1_2', 'Q3_2', 'Mean_6', 'Q1_6', 'Q3_6', 'Label']\n",
    "column_nums = [1,2,6] # take col - 1 for proper indexing\n",
    "rows = []\n",
    "for df, path in zip(training_dfs, training_paths):\n",
    "    label = path.split('/')[2]\n",
    "    if 'bending' in label:\n",
    "        label = 1\n",
    "    else:\n",
    "        label = 0\n",
    "    row = []\n",
    "    for val in column_nums:\n",
    "        row.append(df[df.columns[val-1]].astype(float).mean())\n",
    "        row.append(df[df.columns[val-1]].astype(float).quantile(0.25))\n",
    "        row.append(df[df.columns[val-1]].astype(float).quantile(0.75))\n",
    "    row.append(label)\n",
    "    rows.append(row)\n",
    "scatter_df = pd.DataFrame(rows, columns = cols)\n",
    "sns.pairplot(scatter_df, vars = scatter_df.columns[:-1], hue=\"Label\")\n",
    "plt.show()"
   ]
  },
  {
   "cell_type": "markdown",
   "id": "8bfba3d2",
   "metadata": {},
   "source": [
    "### ii. Break each time series in your training set into two (approximately) equal length time series. Now instead of 6 time series for each of the training instances, you have 12 time series for each training instance. Repeat the experiment in 2(a)i, i.e depict scatter plots of the features extracted from both parts of the time series 1,2, and 6. Do you see any considerable difference in the results with those of 2(a)i?"
   ]
  },
  {
   "cell_type": "markdown",
   "id": "ab97be56",
   "metadata": {},
   "source": [
    "cols = ['Mean_1_first', 'Mean_1_second', 'Q1_1_first', 'Q1_1_second', 'Q3_1_first', 'Q3_1_second', 'Mean_2_first', 'Mean_2_second', 'Q1_2_first', 'Q1_2_second', 'Q3_2_first', 'Q3_2_second', 'Mean_6_first', 'Mean_6_second', 'Q1_6_first', 'Q1_6_second', 'Q3_6_first', 'Q3_6_second', 'Label']\n",
    "column_nums = [1,2,6] # take col - 1 for proper indexing\n",
    "rows = []\n",
    "for df, path in zip(training_dfs, training_paths):\n",
    "    label = path.split('/')[2]\n",
    "    half = len(df) // 2\n",
    "    if 'bending' in label:\n",
    "        label = 1\n",
    "    else:\n",
    "        label = 0\n",
    "    row = []\n",
    "    for val in column_nums:\n",
    "        current = np.reshape(df.iloc[:,val-1].astype(float).values, (-1,1))\n",
    "        row.append(current[:half].mean())\n",
    "        row.append(current[half:].mean())\n",
    "        row.append(np.percentile(current[:half], 25, method = 'midpoint'))\n",
    "        row.append(np.percentile(current[half:], 25, method = 'midpoint'))\n",
    "        row.append(np.percentile(current[:half], 75, method = 'midpoint'))\n",
    "        row.append(np.percentile(current[half:], 75, method = 'midpoint'))\n",
    "    row.append(float(label))\n",
    "    rows.append(row)\n",
    "\n",
    "scatter_df = pd.DataFrame(rows, columns = cols)\n",
    "sns.pairplot(scatter_df, vars = scatter_df.columns[:-1], hue=\"Label\")\n",
    "plt.show()"
   ]
  },
  {
   "cell_type": "markdown",
   "id": "8bd7a895",
   "metadata": {},
   "source": [
    "### iii. Break each time series in your training set into l ∈ {1, 2, . . . , 20} time series of approximately equal length and use logistic regression5 to solve the binary classification problem, using time-domain features. Remember that breaking each of the time series does not change the number of instances. It only changes the number of features for each instance. Calculate the p-values for your logistic regression parameters in each model corresponding to each value of l and refit a logistic regression model using your pruned set of features.6 Alternatively, you can use backward selection using sklearn.feature selection or glm in R. Use 5-fold cross-validation to determine the best value of the pair (l, p), where p is the number of features used in recursive feature elimination. Explain what the right way and the wrong way are to perform cross-validation in this problem.7 Obviously, use the right way! Also, you may encounter the problem of class imbalance, which may make some of your folds not having any instances of the rare class. In such a case, you can use stratified cross validation. Research what it means and use it if needed."
   ]
  },
  {
   "cell_type": "markdown",
   "id": "7822328f",
   "metadata": {},
   "source": [
    "column_nums = [1,2,3,4,5,6] # take col - 1 for proper indexing\n",
    "best_score = float('-inf') \n",
    "for l in range(1, 21):\n",
    "    rows = []\n",
    "    for df, path in zip(training_dfs, training_paths):\n",
    "        size = math.ceil(len(df) / l)\n",
    "        label = path.split('/')[2]\n",
    "        if 'bending' in label:\n",
    "            label = 1\n",
    "        else:\n",
    "            label = 0\n",
    "        row = []\n",
    "        column_names = []\n",
    "        for val in column_nums:\n",
    "            start = 0\n",
    "            part = 1\n",
    "#             current = np.reshape(df.iloc[:,val-1].astype(float).values, (-1,1))\n",
    "            while start < len(df):\n",
    "#                 row.append(current[start:start+size].mean())\n",
    "                row.append(df[df.columns[val-1]].iloc[start:(start+size)].astype(float).mean())\n",
    "                column_names.append(f'Mean_{val}_{part}')\n",
    "#                 row.append(np.percentile(current[start:start+size], 25, method = 'midpoint'))\n",
    "                row.append(df[df.columns[val-1]].iloc[start:(start+size)].astype(float).quantile(0.25))\n",
    "                column_names.append(f'Q1_{val}_{part}')\n",
    "#                 row.append(np.percentile(current[start: start + size], 75, method = 'midpoint'))\n",
    "                row.append(df[df.columns[val-1]].iloc[start:(start+size)].astype(float).quantile(0.75))\n",
    "                column_names.append(f'Q3_{val}_{part}')\n",
    "                start = start + size\n",
    "                part += 1\n",
    "        row.append(label)\n",
    "        rows.append(row[:])\n",
    "        \n",
    "    column_names.append('Label')\n",
    "    logr_df = pd.DataFrame(rows, columns = column_names)\n",
    "    logit = LogisticRegression(penalty='none')\n",
    "    rfecv = RFECV(estimator=logit,cv=StratifiedKFold(5))\n",
    "    model = rfecv.fit(logr_df.iloc[:,:-1], logr_df.iloc[:,-1])\n",
    "    if max(model.cv_results_['mean_test_score']) > best_score:\n",
    "        best_score = max(model.cv_results_['mean_test_score'])\n",
    "        best_model = model\n",
    "        best_params = model.get_feature_names_out()\n",
    "        best_l = l\n",
    "        best_train_df = logr_df.copy()\n",
    "\n",
    "print(f'Best l is {best_l}')\n",
    "print(f'Best params are {best_params}')\n",
    "print(max(best_model.cv_results_['mean_test_score']))"
   ]
  },
  {
   "cell_type": "markdown",
   "id": "221eda98",
   "metadata": {},
   "source": [
    "### iv. Report the confusion matrix and show the ROC and AUC for your classifier on train data. Report the parameters of your logistic regression βi’s as well as the p-values associated with them."
   ]
  },
  {
   "cell_type": "markdown",
   "id": "e146f73c",
   "metadata": {},
   "source": [
    "y_train_best = best_train_df.iloc[:,-1]\n",
    "X_train_best = best_train_df[best_params].copy()\n",
    "pred = best_model.predict(best_train_df.iloc[:,:-1])\n",
    "cm=metrics.confusion_matrix(y_train_best,pred)\n",
    "print(cm)\n",
    "metrics.plot_roc_curve(best_model, best_train_df.iloc[:,:-1], best_train_df.iloc[:,-1])\n",
    "log_reg = sm.Logit(y_train_best, X_train_best).fit(method='lbfgs')\n",
    "print(log_reg.summary())"
   ]
  },
  {
   "cell_type": "markdown",
   "id": "209b9319",
   "metadata": {},
   "source": [
    "### v. Test the classifier on the test set. Remember to break the time series in your test set into the same number of time series into which you broke your training set. Remember that the classifier has to be tested using the features extracted from the test set. Compare the accuracy on the test set with the cross-validation accuracy you obtained previously."
   ]
  },
  {
   "cell_type": "markdown",
   "id": "3b4ce2f3",
   "metadata": {},
   "source": [
    "rows = []\n",
    "for df, path in zip(testing_dfs, testing_paths):\n",
    "    size = math.ceil(len(df) / best_l)\n",
    "    label = path.split('/')[2]\n",
    "    if 'bending' in label:\n",
    "        label = 1\n",
    "    else:\n",
    "        label = 0\n",
    "    row = []\n",
    "    column_names = []\n",
    "    for val in column_nums:\n",
    "        start = 0\n",
    "        part = 1\n",
    "        current = np.reshape(df.iloc[:,val-1].astype(float).values, (-1,1))\n",
    "        while start < len(df):\n",
    "#                 row.append(current[start:start+size].mean())\n",
    "            row.append(df[df.columns[val-1]].iloc[start:start+size].astype(float).mean())\n",
    "            column_names.append(f'Mean_{val}_{part}')\n",
    "#                 row.append(np.percentile(current[start:start+size], 25, method = 'midpoint'))\n",
    "            row.append(df[df.columns[val-1]].iloc[start:start+size].astype(float).quantile(0.25))\n",
    "            column_names.append(f'Q1_{val}_{part}')\n",
    "#                 row.append(np.percentile(current[start: start + size], 75, method = 'midpoint'))\n",
    "            row.append(df[df.columns[val-1]].iloc[start:start+size].astype(float).quantile(0.75))\n",
    "            column_names.append(f'Q3_{val}_{part}')\n",
    "            start = start + size\n",
    "            part += 1\n",
    "    row.append(label)\n",
    "    rows.append(row[:])\n",
    "\n",
    "column_names.append('Label')\n",
    "test_df = pd.DataFrame(rows, columns = column_names)\n",
    "test_df.shape\n",
    "\n",
    "X_test_df = test_df.iloc[:,:-1]\n",
    "y_test_df = test_df.iloc[:, -1]\n",
    "preds = best_model.predict(X_test_df)\n",
    "score = best_model.score(X_test_df, y_test_df)\n",
    "print(score)"
   ]
  },
  {
   "cell_type": "markdown",
   "id": "25b2e2fa",
   "metadata": {},
   "source": [
    "### vi. Do your classes seem to be well-separated to cause instability in calculating logistic regression parameters?"
   ]
  },
  {
   "cell_type": "markdown",
   "id": "df759bce",
   "metadata": {},
   "source": [
    "Yes"
   ]
  },
  {
   "cell_type": "markdown",
   "id": "a971eee4",
   "metadata": {},
   "source": [
    "### vii. From the confusion matrices you obtained, do you see imbalanced classes? If yes, build a logistic regression model based on case-control sampling and adjust its parameters. Report the confusion matrix, ROC, and AUC of the model."
   ]
  },
  {
   "cell_type": "markdown",
   "id": "8fefe8f8",
   "metadata": {},
   "source": [
    "cm=metrics.confusion_matrix(y_test_df,preds)\n",
    "print(cm)\n",
    "metrics.plot_roc_curve(best_model, X_test_df, y_test_df)"
   ]
  },
  {
   "cell_type": "markdown",
   "id": "2f567681",
   "metadata": {},
   "source": [
    "column_nums = [1,2,3,4,5,6] # take col - 1 for proper indexing\n",
    "cc_best_score = float('-inf')\n",
    "oversample = BorderlineSMOTE(random_state = 101, kind = 'borderline-1')\n",
    "for l in range(1, 21):\n",
    "    rows = []\n",
    "    for df, path in zip(training_dfs, training_paths):\n",
    "        size = math.ceil(len(df) / l)\n",
    "        label = path.split('/')[2]\n",
    "        if 'bending' in label:\n",
    "            label = 1\n",
    "        else:\n",
    "            label = 0\n",
    "        row = []\n",
    "        column_names = []\n",
    "        for val in column_nums:\n",
    "            start = 0\n",
    "            part = 1\n",
    "            while start < len(df):\n",
    "                row.append(df[df.columns[val-1]].iloc[start:start+size].astype(float).mean())\n",
    "                column_names.append(f'Mean_{val}_{part}')\n",
    "                row.append(df[df.columns[val-1]].iloc[start:start+size].astype(float).quantile(0.25))\n",
    "                column_names.append(f'Q1_{val}_{part}')\n",
    "                row.append(df[df.columns[val-1]].iloc[start:start+size].astype(float).quantile(0.75))\n",
    "                column_names.append(f'Q3_{val}_{part}')\n",
    "                start = start + size\n",
    "                part += 1\n",
    "        row.append(label)\n",
    "        rows.append(row[:])\n",
    "        \n",
    "    column_names.append('Label')\n",
    "    logr_df = pd.DataFrame(rows, columns = column_names)\n",
    "    logit = LogisticRegression(penalty='none')\n",
    "    rfecv = RFECV(estimator=logit,cv=StratifiedKFold(5))\n",
    "    X, y = oversample.fit_resample(logr_df.iloc[:,:-1], logr_df.iloc[:,-1])\n",
    "    model = rfecv.fit(X,y)\n",
    "    if max(model.cv_results_['mean_test_score']) > cc_best_score:\n",
    "        cc_best_score = max(model.cv_results_['mean_test_score'])\n",
    "        cc_best_model = model\n",
    "        cc_best_params = model.get_feature_names_out()\n",
    "        cc_best_l = l\n",
    "        cc_best_train_df = X.copy()\n",
    "\n",
    "print(f'Best l is {cc_best_l}')\n",
    "print(f'Best params are {cc_best_params}')\n",
    "print(max(cc_best_model.cv_results_['mean_test_score']))"
   ]
  },
  {
   "cell_type": "markdown",
   "id": "a0dfc837",
   "metadata": {},
   "source": [
    "rows = []\n",
    "for df, path in zip(testing_dfs, testing_paths):\n",
    "    size = math.ceil(len(df) / cc_best_l)\n",
    "    label = path.split('/')[2]\n",
    "    if 'bending' in label:\n",
    "        label = 1\n",
    "    else:\n",
    "        label = 0\n",
    "    row = []\n",
    "    column_names = []\n",
    "    for val in column_nums:\n",
    "        start = 0\n",
    "        part = 1\n",
    "        current = np.reshape(df.iloc[:,val-1].astype(float).values, (-1,1))\n",
    "        while start < len(df):\n",
    "            row.append(df[df.columns[val-1]].iloc[start:start+size].astype(float).mean())\n",
    "            column_names.append(f'Mean_{val}_{part}')\n",
    "            row.append(df[df.columns[val-1]].iloc[start:start+size].astype(float).quantile(0.25))\n",
    "            column_names.append(f'Q1_{val}_{part}')\n",
    "            row.append(df[df.columns[val-1]].iloc[start:start+size].astype(float).quantile(0.75))\n",
    "            column_names.append(f'Q3_{val}_{part}')\n",
    "            start = start + size\n",
    "            part += 1\n",
    "    row.append(label)\n",
    "    rows.append(row[:])\n",
    "\n",
    "column_names.append('Label')\n",
    "test_df = pd.DataFrame(rows, columns = column_names)\n",
    "test_df.shape\n",
    "\n",
    "X_test_df = test_df.iloc[:,:-1]\n",
    "y_test_df = test_df.iloc[:, -1]\n",
    "preds = cc_best_model.predict(X_test_df)\n",
    "score = cc_best_model.score(X_test_df, y_test_df)\n",
    "print(score)"
   ]
  },
  {
   "cell_type": "markdown",
   "id": "cdc9052b",
   "metadata": {},
   "source": [
    "cm=metrics.confusion_matrix(y_test_df,preds)\n",
    "print(cm)\n",
    "metrics.plot_roc_curve(cc_best_model,X_test_df, y_test_df)"
   ]
  },
  {
   "cell_type": "markdown",
   "id": "c4b015ea",
   "metadata": {},
   "source": [
    "## (b) Binary Classification Using L1-penalized logistic regression"
   ]
  },
  {
   "cell_type": "markdown",
   "id": "25f54a43",
   "metadata": {},
   "source": [
    "### i. Repeat 2(a)iii using L1-penalized logistic regression,8 i.e. instead of using p- values for variable selection, use L1 regularization. Note that in this problem, you have to cross-validate for both l, the number of time series into which you break each of your instances, and λ, the weight of L1 penalty in your logistic regression objective function (or C, the budget). Packages usually perform cross-validation for λ automatically.9"
   ]
  },
  {
   "cell_type": "markdown",
   "id": "29238d12",
   "metadata": {},
   "source": [
    "column_nums = [1,2,3,4,5,6] # take col - 1 for proper indexing\n",
    "l1_best_score = float('-inf') \n",
    "for l in range(1, 21):\n",
    "    rows = []\n",
    "    for df, path in zip(training_dfs, training_paths):\n",
    "        size = math.ceil(len(df) / l)\n",
    "        label = path.split('/')[2]\n",
    "        if 'bending' in label:\n",
    "            label = 1\n",
    "        else:\n",
    "            label = 0\n",
    "        row = []\n",
    "        column_names = []\n",
    "        for val in column_nums:\n",
    "            start = 0\n",
    "            part = 1\n",
    "            while start < len(df):\n",
    "                row.append(df[df.columns[val-1]].iloc[start:start+size].astype(float).mean())\n",
    "                column_names.append(f'Mean_{val}_{part}')\n",
    "                row.append(df[df.columns[val-1]].iloc[start:start+size].astype(float).quantile(0.25))\n",
    "                column_names.append(f'Q1_{val}_{part}')\n",
    "                row.append(df[df.columns[val-1]].iloc[start:start+size].astype(float).quantile(0.75))\n",
    "                column_names.append(f'Q3_{val}_{part}')\n",
    "                start = start + size\n",
    "                part += 1\n",
    "        row.append(label)\n",
    "        rows.append(row[:])\n",
    "        \n",
    "    column_names.append('Label')\n",
    "    logr_df = pd.DataFrame(rows, columns = column_names)\n",
    "    logit = LogisticRegressionCV(solver='liblinear',penalty='l1', cv=StratifiedKFold(5), random_state=0)\n",
    "    model = logit.fit(logr_df.iloc[:,:-1], logr_df.iloc[:,-1])\n",
    "    score = np.max(np.mean(model.scores_[1], axis = 0))\n",
    "    if score > l1_best_score:\n",
    "        l1_best_score = score\n",
    "        l1_best_model = model\n",
    "#         l1_best_params = model.get_feature_names_out()\n",
    "        l1_best_c = model.C_\n",
    "        l1_best_l = l\n",
    "        l1_best_train_df = logr_df.copy()\n",
    "\n",
    "print(f'Best l is {l1_best_l}')\n",
    "print(f'Best Cs are {l1_best_c}')\n",
    "print(l1_best_score)"
   ]
  },
  {
   "cell_type": "markdown",
   "id": "dec6243e",
   "metadata": {},
   "source": [
    "rows = []\n",
    "for df, path in zip(testing_dfs, testing_paths):\n",
    "    size = math.ceil(len(df) / l1_best_l)\n",
    "    label = path.split('/')[2]\n",
    "    if 'bending' in label:\n",
    "        label = 1\n",
    "    else:\n",
    "        label = 0\n",
    "    row = []\n",
    "    column_names = []\n",
    "    for val in column_nums:\n",
    "        start = 0\n",
    "        part = 1\n",
    "        current = np.reshape(df.iloc[:,val-1].astype(float).values, (-1,1))\n",
    "        while start < len(df):\n",
    "            row.append(df[df.columns[val-1]].iloc[start:start+size].astype(float).mean())\n",
    "            column_names.append(f'Mean_{val}_{part}')\n",
    "            row.append(df[df.columns[val-1]].iloc[start:start+size].astype(float).quantile(0.25))\n",
    "            column_names.append(f'Q1_{val}_{part}')\n",
    "            row.append(df[df.columns[val-1]].iloc[start:start+size].astype(float).quantile(0.75))\n",
    "            column_names.append(f'Q3_{val}_{part}')\n",
    "            start = start + size\n",
    "            part += 1\n",
    "    row.append(label)\n",
    "    rows.append(row[:])\n",
    "\n",
    "column_names.append('Label')\n",
    "test_df = pd.DataFrame(rows, columns = column_names)\n",
    "test_df.shape\n",
    "\n",
    "X_test_df = test_df.iloc[:,:-1]\n",
    "y_test_df = test_df.iloc[:, -1]\n",
    "preds = l1_best_model.predict(X_test_df)\n",
    "score = l1_best_model.score(X_test_df, y_test_df)\n",
    "print(score)"
   ]
  },
  {
   "cell_type": "markdown",
   "id": "c4b5bab2",
   "metadata": {},
   "source": [
    "cm=metrics.confusion_matrix(y_test_df,preds)\n",
    "print(cm)\n",
    "metrics.plot_roc_curve(l1_best_model,X_test_df, y_test_df)"
   ]
  },
  {
   "cell_type": "markdown",
   "id": "6c901e81",
   "metadata": {},
   "source": [
    "### ii. Compare the L1-penalized with variable selection using p-values. Which one performs better? Which one is easier to implement?"
   ]
  },
  {
   "cell_type": "markdown",
   "id": "36724471",
   "metadata": {},
   "source": [
    "l1 better"
   ]
  },
  {
   "cell_type": "markdown",
   "id": "edadeb9b",
   "metadata": {},
   "source": [
    "## (c) Multi-class Classification (The Realistic Case)"
   ]
  },
  {
   "cell_type": "markdown",
   "id": "2720d9e5",
   "metadata": {},
   "source": [
    "### i. Find the best l in the same way as you found it in 2(b)i to build an L1- penalized multinomial regression model to classify all activities in your train- ing set.10 Report your test error. Research how confusion matrices and ROC curves are defined for multiclass classification and show them for this problem if possible.11"
   ]
  },
  {
   "cell_type": "code",
   "execution_count": 3,
   "id": "da97da18",
   "metadata": {},
   "outputs": [
    {
     "name": "stdout",
     "output_type": "stream",
     "text": [
      "Best l is 1\n",
      "Best Cs are [166.81005372 166.81005372 166.81005372 166.81005372 166.81005372\n",
      " 166.81005372 166.81005372]\n",
      "0.8835164835164834\n"
     ]
    }
   ],
   "source": [
    "labels = {\n",
    "    'bending1': 0,\n",
    "    'bending2': 1,\n",
    "    'cycling': 2,\n",
    "    'lying' : 3,\n",
    "    'sitting': 4,\n",
    "    'standing': 5,\n",
    "    'walking': 6  \n",
    "}\n",
    "column_nums = [1,2,3,4,5,6] # take col - 1 for proper indexing\n",
    "multi_best_score = float('-inf') \n",
    "for l in range(1, 21):\n",
    "    rows = []\n",
    "    for df, path in zip(training_dfs, training_paths):\n",
    "        size = math.ceil(len(df) / l)\n",
    "        label = path.split('/')[2]\n",
    "        label = labels[label]\n",
    "        row = []\n",
    "        column_names = []\n",
    "        for val in column_nums:\n",
    "            start = 0\n",
    "            part = 1\n",
    "            while start < len(df):\n",
    "                row.append(df[df.columns[val-1]].iloc[start:start+size].astype(float).mean())\n",
    "                column_names.append(f'Mean_{val}_{part}')\n",
    "                row.append(df[df.columns[val-1]].iloc[start:start+size].astype(float).quantile(0.25))\n",
    "                column_names.append(f'Q1_{val}_{part}')\n",
    "                row.append(df[df.columns[val-1]].iloc[start:start+size].astype(float).quantile(0.75))\n",
    "                column_names.append(f'Q3_{val}_{part}')\n",
    "                start = start + size\n",
    "                part += 1\n",
    "        row.append(label)\n",
    "        rows.append(row[:])\n",
    "    \n",
    "    column_names.append('Label')\n",
    "    logr_df = pd.DataFrame(rows, columns = column_names)\n",
    "    logit = LogisticRegressionCV(solver='saga',penalty='l1', cv=StratifiedKFold(5), random_state=0, multi_class='multinomial')\n",
    "    scaler = MinMaxScaler()\n",
    "    X, y = scaler.fit_transform(logr_df.iloc[:,:-1]), logr_df.iloc[:,-1]\n",
    "    \n",
    "    model = logit.fit(X, y)\n",
    "#     print(model.scores_)\n",
    "    score = np.max(np.mean(model.scores_[1], axis = 0))\n",
    "    if score > multi_best_score:\n",
    "        multi_best_score = score\n",
    "        multi_best_model = model\n",
    "        multi_best_c = model.C_\n",
    "        multi_best_l = l\n",
    "        multi_best_train_df = X.copy()\n",
    "        multi_scaler = scaler\n",
    "\n",
    "print(f'Best l is {multi_best_l}')\n",
    "print(f'Best Cs are {multi_best_c}')\n",
    "print(multi_best_score)"
   ]
  },
  {
   "cell_type": "code",
   "execution_count": 4,
   "id": "2d24a25a",
   "metadata": {},
   "outputs": [
    {
     "name": "stdout",
     "output_type": "stream",
     "text": [
      "5\n",
      "4\n",
      "12\n",
      "12\n",
      "13\n",
      "11\n",
      "12\n"
     ]
    },
    {
     "data": {
      "image/png": "[encoded data removed]",
      "text/plain": [
       "<Figure size 432x288 with 1 Axes>"
      ]
     },
     "metadata": {
      "needs_background": "light"
     },
     "output_type": "display_data"
    }
   ],
   "source": [
    "preds = multi_best_model.predict(multi_best_train_df)\n",
    "pred_proba = multi_best_model.decision_function(multi_best_train_df).T\n",
    "# print(pred_proba)\n",
    "for i, probs in enumerate(pred_proba):\n",
    "    current_y = (preds == i).astype(int)\n",
    "    print(current_y.sum())\n",
    "    fpr, tpr, thresholds = metrics.roc_curve(current_y, probs)\n",
    "    auc = metrics.auc(fpr, tpr)\n",
    "    plt.plot(fpr, tpr)\n",
    "plt.show()\n",
    "    "
   ]
  },
  {
   "cell_type": "code",
   "execution_count": 5,
   "id": "4c5c96d5",
   "metadata": {},
   "outputs": [
    {
     "name": "stdout",
     "output_type": "stream",
     "text": [
      "1\n",
      "0.9473684210526315\n"
     ]
    }
   ],
   "source": [
    "#Test Data\n",
    "rows = []\n",
    "print(multi_best_l)\n",
    "for df, path in zip(testing_dfs, testing_paths):\n",
    "    size = math.ceil(len(df) / multi_best_l)\n",
    "    label = path.split('/')[2]\n",
    "    label = labels[label]\n",
    "    row = []\n",
    "    column_names = []\n",
    "    for val in column_nums:\n",
    "        start = 0\n",
    "        part = 1\n",
    "        current = np.reshape(df.iloc[:,val-1].astype(float).values, (-1,1))\n",
    "        while start < len(df):\n",
    "            row.append(df[df.columns[val-1]].iloc[start:start+size].astype(float).mean())\n",
    "            column_names.append(f'Mean_{val}_{part}')\n",
    "            row.append(df[df.columns[val-1]].iloc[start:start+size].astype(float).quantile(0.25))\n",
    "            column_names.append(f'Q1_{val}_{part}')\n",
    "            row.append(df[df.columns[val-1]].iloc[start:start+size].astype(float).quantile(0.75))\n",
    "            column_names.append(f'Q3_{val}_{part}')\n",
    "            start = start + size\n",
    "            part += 1\n",
    "    row.append(label)\n",
    "    rows.append(row[:])\n",
    "\n",
    "column_names.append('Label')\n",
    "multi_test_df = pd.DataFrame(rows, columns = column_names)\n",
    "# print(multi_test_df.shape)\n",
    "\n",
    "X_test_df_multi = multi_scaler.transform(multi_test_df.iloc[:,:-1])\n",
    "y_test_df_multi = multi_test_df.iloc[:, -1]\n",
    "preds = multi_best_model.predict(X_test_df_multi)\n",
    "score = multi_best_model.score(X_test_df_multi, y_test_df_multi)\n",
    "print(score)"
   ]
  },
  {
   "cell_type": "code",
   "execution_count": 6,
   "id": "60afcb9b",
   "metadata": {},
   "outputs": [
    {
     "name": "stdout",
     "output_type": "stream",
     "text": [
      "Confusion Matrix\n",
      "\n",
      "[[2 0 0 0 0 0 0]\n",
      " [0 2 0 0 0 0 0]\n",
      " [0 0 3 0 0 0 0]\n",
      " [0 0 0 3 0 0 0]\n",
      " [0 0 0 0 2 1 0]\n",
      " [0 0 0 0 0 3 0]\n",
      " [0 0 0 0 0 0 3]]\n",
      "2\n",
      "2\n",
      "3\n",
      "3\n",
      "2\n",
      "4\n",
      "3\n"
     ]
    },
    {
     "data": {
      "image/png": "[encoded data removed]",
      "text/plain": [
       "<Figure size 432x288 with 1 Axes>"
      ]
     },
     "metadata": {
      "needs_background": "light"
     },
     "output_type": "display_data"
    }
   ],
   "source": [
    "confusion = metrics.confusion_matrix(y_test_df_multi, preds)\n",
    "print('Confusion Matrix\\n')\n",
    "print(confusion)\n",
    "\n",
    "# metrics.plot_roc_curve(multi_best_model, multi_best_train_df.iloc[:,:-1], multi_best_train_df.iloc[:,-1])\n",
    "pred_proba = multi_best_model.decision_function(X_test_df_multi).T\n",
    "for i, probs in enumerate(pred_proba):\n",
    "    current_y = (preds == i).astype(int)\n",
    "    print(current_y.sum())\n",
    "    fpr, tpr, thresholds = metrics.roc_curve(current_y, probs)\n",
    "    auc = metrics.auc(fpr, tpr)\n",
    "    plt.plot(fpr, tpr)\n",
    "plt.show()\n",
    "    \n"
   ]
  },
  {
   "cell_type": "markdown",
   "id": "4fa3abe7",
   "metadata": {},
   "source": [
    "### ii. Repeat 2(c)i using a Na ̈ıve Bayes’ classifier. Use both Gaussian and Multi- nomial priors and compare the results."
   ]
  },
  {
   "cell_type": "code",
   "execution_count": 7,
   "id": "ac7293c5",
   "metadata": {},
   "outputs": [
    {
     "name": "stdout",
     "output_type": "stream",
     "text": [
      "Best l is 1\n",
      "0.7835164835164835\n"
     ]
    }
   ],
   "source": [
    "column_nums = [1,2,3,4,5,6] # take col - 1 for proper indexing\n",
    "naive_best_score = float('-inf') \n",
    "for l in range(1, 21):\n",
    "    rows = []\n",
    "    for df, path in zip(training_dfs, training_paths):\n",
    "        size = math.ceil(len(df) / l)\n",
    "        label = path.split('/')[2]\n",
    "        label = labels[label]\n",
    "        row = []\n",
    "        column_names = []\n",
    "        for val in column_nums:\n",
    "            start = 0\n",
    "            part = 1\n",
    "            while start < len(df):\n",
    "                row.append(df[df.columns[val-1]].iloc[start:start+size].astype(float).mean())\n",
    "                column_names.append(f'Mean_{val}_{part}')\n",
    "                row.append(df[df.columns[val-1]].iloc[start:start+size].astype(float).quantile(0.25))\n",
    "                column_names.append(f'Q1_{val}_{part}')\n",
    "                row.append(df[df.columns[val-1]].iloc[start:start+size].astype(float).quantile(0.75))\n",
    "                column_names.append(f'Q3_{val}_{part}')\n",
    "                start = start + size\n",
    "                part += 1\n",
    "        row.append(label)\n",
    "        rows.append(row[:])\n",
    "    \n",
    "    column_names.append('Label')\n",
    "    nb_df = pd.DataFrame(rows, columns = column_names)\n",
    "    nb = GaussianNB()\n",
    "    scaler = MinMaxScaler()\n",
    "    X, y = scaler.fit_transform(nb_df.iloc[:,:-1]), nb_df.iloc[:,-1]\n",
    "    score = cross_val_score(nb, X, y, cv = StratifiedKFold(5), scoring = 'accuracy').mean()\n",
    "    model = nb.fit(X, y)\n",
    "    if score > naive_best_score:\n",
    "        naive_best_score = score\n",
    "        naive_best_model = model\n",
    "#         multi_best_c = model.C_\n",
    "        naive_best_l = l\n",
    "        naive_best_train_df = X.copy()\n",
    "        naive_scaler = scaler\n",
    "\n",
    "print(f'Best l is {naive_best_l}')\n",
    "# print(f'Best Cs are {multi_best_c}')\n",
    "print(naive_best_score)"
   ]
  },
  {
   "cell_type": "code",
   "execution_count": 9,
   "id": "cfa6fb6a",
   "metadata": {},
   "outputs": [
    {
     "name": "stdout",
     "output_type": "stream",
     "text": [
      "0.8947368421052632\n"
     ]
    }
   ],
   "source": [
    "#Test Data\n",
    "rows = []\n",
    "for df, path in zip(testing_dfs, testing_paths):\n",
    "    size = math.ceil(len(df) / naive_best_l)\n",
    "    label = path.split('/')[2]\n",
    "    label = labels[label]\n",
    "    row = []\n",
    "    column_names = []\n",
    "    for val in column_nums:\n",
    "        start = 0\n",
    "        part = 1\n",
    "        current = np.reshape(df.iloc[:,val-1].astype(float).values, (-1,1))\n",
    "        while start < len(df):\n",
    "            row.append(df[df.columns[val-1]].iloc[start:start+size].astype(float).mean())\n",
    "            column_names.append(f'Mean_{val}_{part}')\n",
    "            row.append(df[df.columns[val-1]].iloc[start:start+size].astype(float).quantile(0.25))\n",
    "            column_names.append(f'Q1_{val}_{part}')\n",
    "            row.append(df[df.columns[val-1]].iloc[start:start+size].astype(float).quantile(0.75))\n",
    "            column_names.append(f'Q3_{val}_{part}')\n",
    "            start = start + size\n",
    "            part += 1\n",
    "    row.append(label)\n",
    "    rows.append(row[:])\n",
    "\n",
    "column_names.append('Label')\n",
    "naive_test_df = pd.DataFrame(rows, columns = column_names)\n",
    "naive_test_df.shape\n",
    "\n",
    "X_test_df_naive = naive_scaler.transform(naive_test_df.iloc[:,:-1])\n",
    "y_test_df_naive = naive_test_df.iloc[:, -1]\n",
    "preds = naive_best_model.predict(X_test_df_naive)\n",
    "score = naive_best_model.score(X_test_df_naive, y_test_df_naive)\n",
    "print(score)"
   ]
  },
  {
   "cell_type": "code",
   "execution_count": 13,
   "id": "dfc96d05",
   "metadata": {},
   "outputs": [
    {
     "name": "stdout",
     "output_type": "stream",
     "text": [
      "Confusion Matrix\n",
      "\n",
      "[[2 0 0 0 0 0 0]\n",
      " [0 2 0 0 0 0 0]\n",
      " [0 0 3 0 0 0 0]\n",
      " [0 0 0 3 0 0 0]\n",
      " [0 0 0 0 1 2 0]\n",
      " [0 0 0 0 0 3 0]\n",
      " [0 0 0 0 0 0 3]]\n"
     ]
    },
    {
     "data": {
      "image/png": "[encoded data removed]",
      "text/plain": [
       "<Figure size 432x288 with 1 Axes>"
      ]
     },
     "metadata": {
      "needs_background": "light"
     },
     "output_type": "display_data"
    }
   ],
   "source": [
    "confusion = metrics.confusion_matrix(y_test_df_naive, preds)\n",
    "print('Confusion Matrix\\n')\n",
    "print(confusion)\n",
    "\n",
    "pred_proba = naive_best_model.predict_proba(X_test_df_naive).T\n",
    "for i, probs in enumerate(pred_proba):\n",
    "#     print(probs)\n",
    "    current_y = (preds == i).astype(int)\n",
    "#     print(current_y)\n",
    "    fpr, tpr, thresholds = metrics.roc_curve(current_y, probs)\n",
    "    auc = metrics.auc(fpr, tpr)\n",
    "    plt.plot(fpr, tpr)\n",
    "plt.show()"
   ]
  },
  {
   "cell_type": "code",
   "execution_count": 17,
   "id": "6a3b5df8",
   "metadata": {},
   "outputs": [
    {
     "name": "stdout",
     "output_type": "stream",
     "text": [
      "Best l is 1\n",
      "0.810989010989011\n"
     ]
    }
   ],
   "source": [
    "column_nums = [1,2,3,4,5,6] # take col - 1 for proper indexing\n",
    "naive_best_score = float('-inf') \n",
    "for l in range(1, 21):\n",
    "    rows = []\n",
    "    for df, path in zip(training_dfs, training_paths):\n",
    "        size = math.ceil(len(df) / l)\n",
    "        label = path.split('/')[2]\n",
    "        label = labels[label]\n",
    "        row = []\n",
    "        column_names = []\n",
    "        for val in column_nums:\n",
    "            start = 0\n",
    "            part = 1\n",
    "            while start < len(df):\n",
    "                row.append(df[df.columns[val-1]].iloc[start:start+size].astype(float).mean())\n",
    "                column_names.append(f'Mean_{val}_{part}')\n",
    "                row.append(df[df.columns[val-1]].iloc[start:start+size].astype(float).quantile(0.25))\n",
    "                column_names.append(f'Q1_{val}_{part}')\n",
    "                row.append(df[df.columns[val-1]].iloc[start:start+size].astype(float).quantile(0.75))\n",
    "                column_names.append(f'Q3_{val}_{part}')\n",
    "                start = start + size\n",
    "                part += 1\n",
    "        row.append(label)\n",
    "        rows.append(row[:])\n",
    "    \n",
    "    column_names.append('Label')\n",
    "    nb_df = pd.DataFrame(rows, columns = column_names)\n",
    "    nb = MultinomialNB()\n",
    "    score = cross_val_score(nb, nb_df.iloc[:,:-1], nb_df.iloc[:,-1], cv = StratifiedKFold(5), scoring = 'accuracy').mean()\n",
    "    model = nb.fit(nb_df.iloc[:,:-1], nb_df.iloc[:,-1])\n",
    "    if score > naive_best_score:\n",
    "        naive_best_score = score\n",
    "        naive_best_model = model\n",
    "#         multi_best_c = model.C_\n",
    "        naive_best_l = l\n",
    "        naive_best_train_df = nb_df.copy()\n",
    "\n",
    "print(f'Best l is {naive_best_l}')\n",
    "# print(f'Best Cs are {multi_best_c}')\n",
    "print(naive_best_score)"
   ]
  },
  {
   "cell_type": "code",
   "execution_count": 18,
   "id": "5be15b88",
   "metadata": {},
   "outputs": [
    {
     "name": "stdout",
     "output_type": "stream",
     "text": [
      "0.8947368421052632\n"
     ]
    }
   ],
   "source": [
    "#Test Data\n",
    "rows = []\n",
    "for df, path in zip(testing_dfs, testing_paths):\n",
    "    size = math.ceil(len(df) / naive_best_l)\n",
    "    label = path.split('/')[2]\n",
    "    label = labels[label]\n",
    "    row = []\n",
    "    column_names = []\n",
    "    for val in column_nums:\n",
    "        start = 0\n",
    "        part = 1\n",
    "        current = np.reshape(df.iloc[:,val-1].astype(float).values, (-1,1))\n",
    "        while start < len(df):\n",
    "            row.append(df[df.columns[val-1]].iloc[start:start+size].astype(float).mean())\n",
    "            column_names.append(f'Mean_{val}_{part}')\n",
    "            row.append(df[df.columns[val-1]].iloc[start:start+size].astype(float).quantile(0.25))\n",
    "            column_names.append(f'Q1_{val}_{part}')\n",
    "            row.append(df[df.columns[val-1]].iloc[start:start+size].astype(float).quantile(0.75))\n",
    "            column_names.append(f'Q3_{val}_{part}')\n",
    "            start = start + size\n",
    "            part += 1\n",
    "    row.append(label)\n",
    "    rows.append(row[:])\n",
    "\n",
    "column_names.append('Label')\n",
    "naive_test_df = pd.DataFrame(rows, columns = column_names)\n",
    "naive_test_df.shape\n",
    "\n",
    "X_test_df_naive = naive_test_df.iloc[:,:-1]\n",
    "y_test_df_naive = naive_test_df.iloc[:, -1]\n",
    "preds = naive_best_model.predict(X_test_df_naive)\n",
    "score = naive_best_model.score(X_test_df_naive, y_test_df_naive)\n",
    "print(score)"
   ]
  },
  {
   "cell_type": "code",
   "execution_count": 20,
   "id": "1830be8e",
   "metadata": {},
   "outputs": [
    {
     "name": "stdout",
     "output_type": "stream",
     "text": [
      "Confusion Matrix\n",
      "\n",
      "[[2 0 0 0 0 0 0]\n",
      " [1 1 0 0 0 0 0]\n",
      " [0 0 3 0 0 0 0]\n",
      " [0 0 0 3 0 0 0]\n",
      " [0 0 0 0 2 1 0]\n",
      " [0 0 0 0 0 3 0]\n",
      " [0 0 0 0 0 0 3]]\n"
     ]
    },
    {
     "data": {
      "image/png": "[encoded data removed]",
      "text/plain": [
       "<Figure size 432x288 with 1 Axes>"
      ]
     },
     "metadata": {
      "needs_background": "light"
     },
     "output_type": "display_data"
    }
   ],
   "source": [
    "confusion = metrics.confusion_matrix(y_test_df_naive, preds)\n",
    "print('Confusion Matrix\\n')\n",
    "print(confusion)\n",
    "\n",
    "pred_proba = naive_best_model.predict_proba(X_test_df_naive).T\n",
    "for i, probs in enumerate(pred_proba):\n",
    "#     print(probs)\n",
    "    current_y = (preds == i).astype(int)\n",
    "#     print(current_y)\n",
    "    fpr, tpr, thresholds = metrics.roc_curve(current_y, probs, drop_intermediate=False)\n",
    "    auc = metrics.auc(fpr, tpr)\n",
    "    plt.plot(fpr, tpr)\n",
    "plt.show()"
   ]
  },
  {
   "cell_type": "markdown",
   "id": "64efb0c2",
   "metadata": {},
   "source": [
    "### iii. Which method is better for multi-class classification in this problem?"
   ]
  },
  {
   "cell_type": "code",
   "execution_count": null,
   "id": "ab01b366",
   "metadata": {},
   "outputs": [],
   "source": []
  },
  {
   "cell_type": "markdown",
   "id": "f0b0a5ce",
   "metadata": {},
   "source": [
    "# 3. ISLR, 4.8.3"
   ]
  },
  {
   "cell_type": "markdown",
   "id": "22f9ee00",
   "metadata": {},
   "source": [
    "# 4. ISLR 4.8.7"
   ]
  },
  {
   "cell_type": "code",
   "execution_count": null,
   "id": "b0ba8a0f",
   "metadata": {},
   "outputs": [],
   "source": []
  },
  {
   "cell_type": "markdown",
   "id": "67e128d9",
   "metadata": {},
   "source": []
  }
 ],
 "metadata": {
  "kernelspec": {
   "display_name": "Python 3 (ipykernel)",
   "language": "python",
   "name": "python3"
  },
  "language_info": {
   "codemirror_mode": {
    "name": "ipython",
    "version": 3
   },
   "file_extension": ".py",
   "mimetype": "text/x-python",
   "name": "python",
   "nbconvert_exporter": "python",
   "pygments_lexer": "ipython3",
   "version": "3.9.12"
  }
 },
 "nbformat": 4,
 "nbformat_minor": 5
}
